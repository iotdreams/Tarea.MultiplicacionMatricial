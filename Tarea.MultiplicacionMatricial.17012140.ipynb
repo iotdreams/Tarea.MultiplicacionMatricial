{
 "cells": [
  {
   "cell_type": "markdown",
   "metadata": {},
   "source": [
    "# Erick Pineda Amezquita\n",
    "Tarea de multiplicación matricial y aritmética para la funcion de Bellman y red neuronal\n"
   ]
  },
  {
   "cell_type": "code",
   "execution_count": 2,
   "metadata": {},
   "outputs": [],
   "source": [
    "## Para poder utilizar numpy debemos importar el paquete, es casi un estandar de la industria importarlo bajo el alias **\"np\"**\n",
    "import numpy as np"
   ]
  },
  {
   "cell_type": "code",
   "execution_count": 3,
   "metadata": {},
   "outputs": [],
   "source": [
    "import matplotlib.pyplot as plt"
   ]
  },
  {
   "cell_type": "markdown",
   "metadata": {},
   "source": [
    "## Operaciones , Aritmetica  y Algebra Matricial\n",
    "\n",
    "Similar al caso de vectores, cuando trabajamos con matrices hay algunas operaciones existentes tanto en matematica, como en NumPy y tambien algunas aplicaciones que no estan definidas matematicamente pero que si estan definidas en NumPy para facilitar la programacion y realizar operaciones que pueden resultar utiles al crear programas para analisis de datos o procesamiento de estos,una operacion en especial necesita especial atencion : **multiplicacion matricial** \n",
    "\n",
    "### Aritmetica elemento por elemento\n",
    "\n",
    "La aritmetica elemento por elemento es el tipo de operacion mas simple entre 2 matrices(del mismo tamanio) ,utiliza los operadores  aritmeticos ya conocidos +,-,*,/, % y el resultado como es de esperarse consiste en aplicar la operacion aritmetica entre elementos correspondientes de ambas matrices.\n",
    "\n",
    "Matematicamente solo **estan definidas la  suma y resta de matrices** y el resultado es el mismo obtenido por NumPy.\n",
    "\n",
    "<img src=\"https://www.unilim.fr/pages_perso/jean.debord/math/matrices/addsub.gif\">"
   ]
  },
  {
   "cell_type": "markdown",
   "metadata": {},
   "source": [
    "### Multiplicación Matricial \n",
    "\n",
    "Una de las operaciones mas importantes tanto en matemáticas como en ciencias de la computación y ciencia de datos y también una de las mas comunes es la multiplicación matricial, que podemos conceptualizar de 2 maneras:\n",
    "\n",
    "* **Matriz por vector**\n",
    "* **Matriz por matriz**\n",
    "\n",
    "Esta es una operación sumamente utilizada e importante y es diferente de las que hasta ahora habiamos visto: **operaciones elemento por elemento** por lo cual NO ES IGUAL QUE EL PRODUCTO HADAMARD.\n",
    "\n",
    "El producto matricial **AxB** solo esta definido para pares de matrices que cumplen con la propiedad de que el número de columnas de A sea igual que el número de filas de B. El resultado es una nueva matriz cuyo numero de filas es igual al número de filas de A y el número de columnas es igual al número de columnas de B\n",
    "\n",
    "<img src=\"https://www.geogebra.org/resource/jyFms9hh/gWfr05GxoKt6c3JS/material-jyFms9hh.png\">\n",
    "\n",
    "La forma de calcular la multiplicación matricial AxB se basa en el producto punto, para la matriz de resultado C el elemento en la fila \"i\" y columna \"j\" consiste en el producto punto entre la fila \"i\" de A y la columna \"j\" de B.\n",
    "\n",
    "Por lo cual contrario a lo que muchos creen, la multiplicación matricial **NO ES LO MISMO QUE EL PRODUCTO PUNTO** pero si lo utiliza ,la matriz resultante es una matriz de productos punto.\n",
    "\n",
    "<img src=\"https://www.mathsisfun.com/algebra/images/matrix-multiply-a.svg\">"
   ]
  },
  {
   "cell_type": "markdown",
   "metadata": {},
   "source": [
    "\n",
    "\n",
    "**Ejemplo en DS** : en inteligencia artificial y ML en la sub-rama \"reinforcement learning\" la \"ecuacion de bellman\" puede aplicarse de manera vectorizada a traves del operar vectores, matrices y escalares en una sola expresion.\n",
    "\n",
    "<img src=\"https://rebornhugo.github.io/assets/images/post_images/%E5%BC%BA%E5%8C%96%E5%AD%A6%E4%B9%A02/bellman%20equation2.PNG\">\n",
    "\n",
    "* n = numero de estados del sistema.\n",
    "* V(s) = vector que representa el valor esperado para cierto estado\n",
    "* R = recompensa inmediata percibida por el agente al salir de cierto estado.(vector)\n",
    "* P = matriz de transicion de la cadena de Markov sub-yacente.(matriz)\n",
    "* γ = factor de descuento de recompensas futuras(escalar)\n",
    "\n",
    "Calcular V(s) para el siguiente sistema aplicando la ecuación de bellman de manera vectorizada."
   ]
  },
  {
   "cell_type": "code",
   "execution_count": 4,
   "metadata": {},
   "outputs": [],
   "source": [
    "V = np.array([0,0,0]) # valor inicial de V(s)\n",
    "R = np.array([10,2,5]) # vector de recompensas\n",
    "P = np.array([[0.5,0.25,0.25],\n",
    "              [0.2,0.40,0.40],\n",
    "              [0.80,0.10,0.10]])  # matriz de transición\n",
    "gamma = 0.99"
   ]
  },
  {
   "cell_type": "markdown",
   "metadata": {},
   "source": [
    "## Solución, creando la función:\n"
   ]
  },
  {
   "cell_type": "code",
   "execution_count": 80,
   "metadata": {},
   "outputs": [],
   "source": [
    "def funcionBell(v,r,p,g):   \n",
    "    x=np.matmul(p,v)\n",
    "    v=r+g*x\n",
    "    return v"
   ]
  },
  {
   "cell_type": "markdown",
   "metadata": {},
   "source": [
    "### Probando la función: "
   ]
  },
  {
   "cell_type": "code",
   "execution_count": 108,
   "metadata": {
    "collapsed": true
   },
   "outputs": [
    {
     "name": "stdout",
     "output_type": "stream",
     "text": [
      "[158.47087658 148.54037658 155.40137658]\n"
     ]
    }
   ],
   "source": [
    "V=funcionBell(V,R,P,gamma)\n",
    "print(V)\n",
    "\n",
    "####Observación\n",
    "## Al ejecutar este codigo en repetidas ocasiones, da diferentes resultas por la recursividad V=funcion(V)"
   ]
  },
  {
   "cell_type": "markdown",
   "metadata": {},
   "source": [
    "# Ejercicio 2, red neuronal"
   ]
  },
  {
   "cell_type": "markdown",
   "metadata": {},
   "source": [
    "**Ejercicio aplicado en DS**\n",
    "Se tiene una red neuronal sencilla(y simplificada) como la de la siguiente imagen:\n",
    "<img src=\"https://www.oreilly.com/library/view/practical-convolutional-neural/9781788392303/assets/246151fb-7893-448d-b9bb-7a87b387a24b.png\">\n",
    "\n",
    "Donde:\n",
    "* INPUT LAYER: un vector X de tamaño = 2 que representa los datos de entrada\n",
    "* HIDDEN_LAYER :capa oculta con 2 neuronas definidas por los vectores:\n",
    "    * HL1 = [0.25,0.37]\n",
    "    * HL2 = [-8,14]\n",
    "* OUTPUT_LAYER = capa de salida definida por el vector [4,9]\n",
    "\n",
    "Crear una funcion neural_network(X) para calcular:\n",
    "* Calcule la salida de cada neurona en la capa intermedia aplicada a la capa de entrada.\n",
    "* Use el resultado del paso anterior como entrada para la neurona en la capa de salida\n",
    "\n",
    "Utilizando multiplicacion de matrices se debe calcular para cada fila de la matriz de entrada X el valor de las neuronas de la capa intermedia, esto producira una nueva matriz con el mismo numero de filas que X y 2 columnas(1 para cada neurona) , a  los valores de esta matriz se les debe aplicar la funcion \"sigmoid\"(descrita a continuacion) para limitarlos al intervalo de 0 a 1, esto produce una matriz del mismo tamanio pero con valores entre 0 a 1, esta matriz se multiplica matricialmente por la matriz que representa los pesos de la capa de salida  y este proceso produce un nuevo tensor al cual se debe aplicar nuevamente la funcion sigmoid. El resultado debe ser un tensor con el mismo numero de filas que la matriz X y una sola columna(una prediccion para cada fila de X\n",
    "\n",
    "<img src=\"https://cdn-images-1.medium.com/max/1600/1*Xu7B5y9gp0iL5ooBj7LtWw.png\">"
   ]
  },
  {
   "cell_type": "code",
   "execution_count": 41,
   "metadata": {},
   "outputs": [],
   "source": [
    "def sigmoid(x): #convertir los valores de x al rango de 0 a 1\n",
    "    \n",
    "    return 1/(1+np.exp(-x))"
   ]
  },
  {
   "cell_type": "code",
   "execution_count": 42,
   "metadata": {},
   "outputs": [
    {
     "name": "stdout",
     "output_type": "stream",
     "text": [
      "[[0.99995577]\n",
      " [0.99999332]]\n"
     ]
    }
   ],
   "source": [
    "H1_W = np.array([[0.25,-8],\n",
    "                 [0.37,14]])\n",
    "OL_W = np.array([[4],[9]])\n",
    "\n",
    "X =  np.array([[0.1,0.2],\n",
    "               [1,2]])\n",
    "\n",
    "H1 = np.matmul(X,H1_W)\n",
    "H1 = sigmoid(H1)  # funcion de activacion: convertir a valores en el intervalo de 0 a 1\n",
    "OL = np.matmul(H1,OL_W)\n",
    "OL = sigmoid(OL)  # funcion de activacion: convertir a valores en el intervalo de 0 a 1\n",
    "\n",
    "\n",
    "print(OL)"
   ]
  },
  {
   "cell_type": "markdown",
   "metadata": {},
   "source": [
    "### Ejercicio \n",
    "\n",
    "Implementar en una funcion neural_network(X) la red neuronal definida por la siguiente arquitectura:\n",
    "\n",
    "<img src=\"http://i.imgur.com/UNlffE1.png\">\n",
    "\n",
    "Podemos validar si fue correctamente implementada si usamos como entrada el vector x=[1,1] . Debemos obtener el resultado mostrado en la imagen.\n",
    "\n",
    "Una vez tenemos la implementacion correcta, cambiar la funcion de activacion de la capa de salida por la funcion de activacion ReLu(https://en.wikipedia.org/wiki/Rectifier_(neural_networks)):\n",
    "\n",
    "<img src=\"https://cdn-images-1.medium.com/max/1600/1*DfMRHwxY1gyyDmrIAd-gjQ.png\">\n",
    "\n",
    "Luego evaluar la red neuronal sobre la matriz de datos X(de manera vectorizada):"
   ]
  },
  {
   "cell_type": "code",
   "execution_count": 43,
   "metadata": {},
   "outputs": [],
   "source": [
    "X = np.array([\n",
    "    [0.1,2],\n",
    "    [0.3,0.45],\n",
    "    [5,9],\n",
    "    [12,6],\n",
    "    [7,5],\n",
    "    [0.3,0.8],\n",
    "    [12,5],\n",
    "    [100,200],\n",
    "    [7,8],\n",
    "    [300,1500]])"
   ]
  },
  {
   "cell_type": "markdown",
   "metadata": {},
   "source": [
    "### Broadcasting\n",
    "\n",
    "Python utiliza un mecanismo conocido como **\"broadcasting\"** para algunas operaciones cuando el tamaño de los operandos no coincide, por ejemplo el caso de una suma entre una matriz y un vector, broadcasting \"expande\"(siempre que sea posible) el vector para que tenga la misma forma que la matriz replicando el vector cuantas veces sea necesario para tener la misma forma y luego aplica la operacion **\"elementwise\"** (elemento a elemento).\n",
    "\n",
    "Para cuando se trabaja con matrices y una matriz A se opera con algún vector B broadcasting busca replicar o copiar el vector las veces que sea necesario para obtener una matriz del mismo tamaño , por ejemplo si se tiene una matriz de tamaño 4x5 , y un vector de 4 elementos, broadcasting creará una matriz que consiste en copiar el vector de 4 elementos 5 veces.\n",
    "\n",
    "Broadcasting no funciona en casos donde las dimensiones no son compatibles, por ejemplo para el caso anterior, broadcasting no  hubiera funcionado si el vector tuviera 3 elementos y hubiera resultado en un error: **operands could not be broadcast together with shapes ... **\n",
    "\n",
    "* https://www.youtube.com/watch?v=YrOrAcMjFB4\n",
    "* https://docs.scipy.org/doc/numpy/user/basics.broadcasting.html"
   ]
  }
 ],
 "metadata": {
  "kernelspec": {
   "display_name": "Python 3",
   "language": "python",
   "name": "python3"
  },
  "language_info": {
   "codemirror_mode": {
    "name": "ipython",
    "version": 3
   },
   "file_extension": ".py",
   "mimetype": "text/x-python",
   "name": "python",
   "nbconvert_exporter": "python",
   "pygments_lexer": "ipython3",
   "version": "3.7.1"
  }
 },
 "nbformat": 4,
 "nbformat_minor": 2
}
